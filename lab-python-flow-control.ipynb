{
 "cells": [
  {
   "cell_type": "markdown",
   "id": "d3bfc191-8885-42ee-b0a0-bbab867c6f9f",
   "metadata": {
    "tags": []
   },
   "source": [
    "# Lab | Flow Control"
   ]
  },
  {
   "cell_type": "markdown",
   "id": "3851fcd1-cf98-4653-9c89-e003b7ec9400",
   "metadata": {},
   "source": [
    "## Exercise: Managing Customer Orders Optimized\n",
    "\n",
    "In the last lab, you were starting an online store that sells various products. To ensure smooth operations, you developed a program that manages customer orders and inventory.\n",
    "\n",
    "You did so without using flow control. Let's go a step further and improve this code.\n",
    "\n",
    "Follow the steps below to complete the exercise:\n",
    "\n",
    "1. Look at your code from the lab data structures, and improve repeated code with loops.\n",
    "\n",
    "2. Instead of asking the user to input the name of three products that a customer wants to order, do the following:\n",
    "    \n",
    "    a. Prompt the user to enter the name of a product that a customer wants to order.\n",
    "    \n",
    "    b. Add the product name to the \"customer_orders\" set.\n",
    "    \n",
    "    c. Ask the user if they want to add another product (yes/no).\n",
    "    \n",
    "    d. Continue the loop until the user does not want to add another product.\n",
    "\n",
    "3. Instead of updating the inventory by subtracting 1 from the quantity of each product, only do it for  the products that were ordered (those in \"customer_orders\")."
   ]
  },
  {
   "cell_type": "code",
   "execution_count": null,
   "id": "0a80e3c8",
   "metadata": {},
   "outputs": [],
   "source": [
    "# List of available products\n",
    "products = [\"t-shirt\", \"mug\", \"hat\", \"book\", \"keychain\"]\n",
    "\n",
    "# Create an empty inventory dictionary\n",
    "inventory = {\n",
    "    \"t-shirt\": 1,\n",
    "    \"mug\": 1,\n",
    "    \"hat\": 1,\n",
    "    \"book\": 1,\n",
    "    \"keychain\": 1\n",
    "}\n",
    "\n",
    "# Initialize an empty set to store customer orders\n",
    "customer_orders = set()\n",
    "\n",
    "while True:\n",
    "    # Prompt the user to enter the name of a product\n",
    "    product = input(f\"Enter the name of a product the customer wants to order\")\n",
    "    \n",
    "    # Check if the entered product is in the list of available products\n",
    "    if product in products:\n",
    "        # Add the product name to the customer_orders set\n",
    "        customer_orders.add(product)\n",
    "    else:\n",
    "        print(\"The entered product is not available. Please choose from the available products.\")\n",
    "        continue\n",
    "    \n",
    "    # Ask the user if they want to add another product\n",
    "    another = input(\"Do you want to add another product? (yes/no): \").strip().lower()\n",
    "    \n",
    "    # If the user does not want to add another product, break the loop\n",
    "    if another != 'yes':\n",
    "        break\n",
    "\n",
    "# Output the final set of customer orders\n",
    "print(\"Customer orders:\", customer_orders)\n",
    "\n",
    "# Update the inventory for the products that were ordered\n",
    "for ordered_product in customer_orders:\n",
    "    if inventory[ordered_product] > 0:\n",
    "        inventory[ordered_product] -= 1\n",
    "    else:\n",
    "        print(f\"Sorry, {ordered_product} is out of stock.\")\n",
    "        \n"
   ]
  }
 ],
 "metadata": {
  "kernelspec": {
   "display_name": "Python 3 (ipykernel)",
   "language": "python",
   "name": "python3"
  },
  "language_info": {
   "codemirror_mode": {
    "name": "ipython",
    "version": 3
   },
   "file_extension": ".py",
   "mimetype": "text/x-python",
   "name": "python",
   "nbconvert_exporter": "python",
   "pygments_lexer": "ipython3",
   "version": "3.9.13"
  }
 },
 "nbformat": 4,
 "nbformat_minor": 5
}
